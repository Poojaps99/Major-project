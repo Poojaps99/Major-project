{
 "cells": [
  {
   "cell_type": "code",
   "execution_count": 1,
   "id": "1f0ed351",
   "metadata": {},
   "outputs": [
    {
     "name": "stdout",
     "output_type": "stream",
     "text": [
      "\n",
      "Don’t count \n",
      "the days. \n",
      "Make the \n",
      "days count. \n"
     ]
    }
   ],
   "source": [
    "from tkinter import *\n",
    "from tkinter import filedialog\n",
    "from PIL import ImageTk, Image\n",
    "import cv2\n",
    "import pytesseract \n",
    "\n",
    "pytesseract.pytesseract.tesseract_cmd = 'C:\\\\Program Files\\\\Tesseract-OCR\\\\tesseract.exe'\n",
    "\n",
    "root = Tk()\n",
    "root.title(' Text from image project') \n",
    "\n",
    "newline= Label(root)\n",
    "uploaded_img=Label(root)\n",
    "scrollbar = Scrollbar(root)\n",
    "scrollbar.pack( side = RIGHT, fill = Y )\n",
    "\n",
    "\n",
    "def extract(path):\n",
    "    Actual_image = cv2.imread(path)\n",
    "    Sample_img = cv2.resize(Actual_image,(400,350))\n",
    "    Image_ht,Image_wd,Image_thickness = Sample_img.shape\n",
    "    Sample_img = cv2.cvtColor(Sample_img,cv2.COLOR_BGR2RGB)\n",
    "    texts = pytesseract.image_to_data(Sample_img) \n",
    "    mytext=\"\"\n",
    "    prevy=0\n",
    "    for cnt,text in enumerate(texts.splitlines()):\n",
    "        if cnt==0:\n",
    "            continue\n",
    "        text = text.split()\n",
    "        if len(text)==12:\n",
    "            x,y,w,h = int(text[6]),int(text[7]),int(text[8]),int(text[9])\n",
    "            if(len(mytext)==0):\n",
    "                prey=y\n",
    "            if(prevy-y>=10 or y-prevy>=10):\n",
    "                print(mytext)\n",
    "                Label(root,text=mytext,font=('Times',15,'bold')).pack()\n",
    "                mytext=\"\"\n",
    "            mytext = mytext + text[11]+\" \"\n",
    "            prevy=y\n",
    "    Label(root,text=mytext,font=('Times',15,'bold')).pack()\n",
    "\n",
    "def show_extract_button(path):\n",
    "    extractBtn= Button(root,text=\"Extract text\",command=lambda: extract(path),bg=\"#2f2f77\",fg=\"gray\",pady=15,padx=15,font=('Times',15,'bold'))\n",
    "    extractBtn.pack()\n",
    "\n",
    "def upload():\n",
    "    try:\n",
    "        path=filedialog.askopenfilename()\n",
    "        image=Image.open(path)\n",
    "        img=ImageTk.PhotoImage(image)\n",
    "        uploaded_img.configure(image=img)\n",
    "        uploaded_img.image=img\n",
    "        show_extract_button(path)\n",
    "    except:\n",
    "        pass  \n",
    "\n",
    "uploadbtn = Button(root,text=\"Upload an image\",command=upload,bg=\"#2f2f77\",fg=\"gray\",height=2,width=20,font=('Times',15,'bold')).pack()\n",
    "newline.configure(text='\\n')\n",
    "newline.pack()\n",
    "uploaded_img.pack()\n",
    "\n",
    "root.mainloop()"
   ]
  },
  {
   "cell_type": "code",
   "execution_count": null,
   "id": "6f2fc466",
   "metadata": {},
   "outputs": [],
   "source": []
  },
  {
   "cell_type": "code",
   "execution_count": null,
   "id": "4527a1cf",
   "metadata": {},
   "outputs": [],
   "source": []
  }
 ],
 "metadata": {
  "kernelspec": {
   "display_name": "Python 3 (ipykernel)",
   "language": "python",
   "name": "python3"
  },
  "language_info": {
   "codemirror_mode": {
    "name": "ipython",
    "version": 3
   },
   "file_extension": ".py",
   "mimetype": "text/x-python",
   "name": "python",
   "nbconvert_exporter": "python",
   "pygments_lexer": "ipython3",
   "version": "3.9.12"
  }
 },
 "nbformat": 4,
 "nbformat_minor": 5
}
